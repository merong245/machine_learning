{
  "nbformat": 4,
  "nbformat_minor": 0,
  "metadata": {
    "colab": {
      "name": "homework_tutorial.ipynb",
      "provenance": [],
      "collapsed_sections": []
    },
    "kernelspec": {
      "name": "python3",
      "display_name": "Python 3"
    },
    "language_info": {
      "name": "python"
    },
    "accelerator": "GPU",
    "widgets": {
      "application/vnd.jupyter.widget-state+json": {
        "e47427c9c5a54c158d537738b8b02494": {
          "model_module": "@jupyter-widgets/controls",
          "model_name": "HBoxModel",
          "model_module_version": "1.5.0",
          "state": {
            "_view_name": "HBoxView",
            "_dom_classes": [],
            "_model_name": "HBoxModel",
            "_view_module": "@jupyter-widgets/controls",
            "_model_module_version": "1.5.0",
            "_view_count": null,
            "_view_module_version": "1.5.0",
            "box_style": "",
            "layout": "IPY_MODEL_f79786aa27994367a1b275a291af17d6",
            "_model_module": "@jupyter-widgets/controls",
            "children": [
              "IPY_MODEL_b0fbb56d1c034c459af320b595b6803e",
              "IPY_MODEL_97b8c422dbd94457860d960a148e0b76",
              "IPY_MODEL_1c0ec65992014d52b85893c510125398"
            ]
          }
        },
        "f79786aa27994367a1b275a291af17d6": {
          "model_module": "@jupyter-widgets/base",
          "model_name": "LayoutModel",
          "model_module_version": "1.2.0",
          "state": {
            "_view_name": "LayoutView",
            "grid_template_rows": null,
            "right": null,
            "justify_content": null,
            "_view_module": "@jupyter-widgets/base",
            "overflow": null,
            "_model_module_version": "1.2.0",
            "_view_count": null,
            "flex_flow": null,
            "width": null,
            "min_width": null,
            "border": null,
            "align_items": null,
            "bottom": null,
            "_model_module": "@jupyter-widgets/base",
            "top": null,
            "grid_column": null,
            "overflow_y": null,
            "overflow_x": null,
            "grid_auto_flow": null,
            "grid_area": null,
            "grid_template_columns": null,
            "flex": null,
            "_model_name": "LayoutModel",
            "justify_items": null,
            "grid_row": null,
            "max_height": null,
            "align_content": null,
            "visibility": null,
            "align_self": null,
            "height": null,
            "min_height": null,
            "padding": null,
            "grid_auto_rows": null,
            "grid_gap": null,
            "max_width": null,
            "order": null,
            "_view_module_version": "1.2.0",
            "grid_template_areas": null,
            "object_position": null,
            "object_fit": null,
            "grid_auto_columns": null,
            "margin": null,
            "display": null,
            "left": null
          }
        },
        "b0fbb56d1c034c459af320b595b6803e": {
          "model_module": "@jupyter-widgets/controls",
          "model_name": "HTMLModel",
          "model_module_version": "1.5.0",
          "state": {
            "_view_name": "HTMLView",
            "style": "IPY_MODEL_efa9d5bdbf004dcaa7f6a5594976b18c",
            "_dom_classes": [],
            "description": "",
            "_model_name": "HTMLModel",
            "placeholder": "​",
            "_view_module": "@jupyter-widgets/controls",
            "_model_module_version": "1.5.0",
            "value": "Iteration: [469/469] 100%",
            "_view_count": null,
            "_view_module_version": "1.5.0",
            "description_tooltip": null,
            "_model_module": "@jupyter-widgets/controls",
            "layout": "IPY_MODEL_33c7a0f2d6fa42e1a9b4432043714c2f"
          }
        },
        "97b8c422dbd94457860d960a148e0b76": {
          "model_module": "@jupyter-widgets/controls",
          "model_name": "FloatProgressModel",
          "model_module_version": "1.5.0",
          "state": {
            "_view_name": "ProgressView",
            "style": "IPY_MODEL_e841d44fddc64ec1a4139291626b2d37",
            "_dom_classes": [],
            "description": "",
            "_model_name": "FloatProgressModel",
            "bar_style": "success",
            "max": 469,
            "_view_module": "@jupyter-widgets/controls",
            "_model_module_version": "1.5.0",
            "value": 469,
            "_view_count": null,
            "_view_module_version": "1.5.0",
            "orientation": "horizontal",
            "min": 0,
            "description_tooltip": null,
            "_model_module": "@jupyter-widgets/controls",
            "layout": "IPY_MODEL_26e4740315234f9ebe43ac57efd8ab9e"
          }
        },
        "1c0ec65992014d52b85893c510125398": {
          "model_module": "@jupyter-widgets/controls",
          "model_name": "HTMLModel",
          "model_module_version": "1.5.0",
          "state": {
            "_view_name": "HTMLView",
            "style": "IPY_MODEL_2f4f561607e54dcb8b59eea4273c599b",
            "_dom_classes": [],
            "description": "",
            "_model_name": "HTMLModel",
            "placeholder": "​",
            "_view_module": "@jupyter-widgets/controls",
            "_model_module_version": "1.5.0",
            "value": ", batch loss=0.043 [00:24&lt;00:00]",
            "_view_count": null,
            "_view_module_version": "1.5.0",
            "description_tooltip": null,
            "_model_module": "@jupyter-widgets/controls",
            "layout": "IPY_MODEL_cdb6d827924646f4bd3b9e095bc889c9"
          }
        },
        "efa9d5bdbf004dcaa7f6a5594976b18c": {
          "model_module": "@jupyter-widgets/controls",
          "model_name": "DescriptionStyleModel",
          "model_module_version": "1.5.0",
          "state": {
            "_view_name": "StyleView",
            "_model_name": "DescriptionStyleModel",
            "description_width": "",
            "_view_module": "@jupyter-widgets/base",
            "_model_module_version": "1.5.0",
            "_view_count": null,
            "_view_module_version": "1.2.0",
            "_model_module": "@jupyter-widgets/controls"
          }
        },
        "33c7a0f2d6fa42e1a9b4432043714c2f": {
          "model_module": "@jupyter-widgets/base",
          "model_name": "LayoutModel",
          "model_module_version": "1.2.0",
          "state": {
            "_view_name": "LayoutView",
            "grid_template_rows": null,
            "right": null,
            "justify_content": null,
            "_view_module": "@jupyter-widgets/base",
            "overflow": null,
            "_model_module_version": "1.2.0",
            "_view_count": null,
            "flex_flow": null,
            "width": null,
            "min_width": null,
            "border": null,
            "align_items": null,
            "bottom": null,
            "_model_module": "@jupyter-widgets/base",
            "top": null,
            "grid_column": null,
            "overflow_y": null,
            "overflow_x": null,
            "grid_auto_flow": null,
            "grid_area": null,
            "grid_template_columns": null,
            "flex": null,
            "_model_name": "LayoutModel",
            "justify_items": null,
            "grid_row": null,
            "max_height": null,
            "align_content": null,
            "visibility": null,
            "align_self": null,
            "height": null,
            "min_height": null,
            "padding": null,
            "grid_auto_rows": null,
            "grid_gap": null,
            "max_width": null,
            "order": null,
            "_view_module_version": "1.2.0",
            "grid_template_areas": null,
            "object_position": null,
            "object_fit": null,
            "grid_auto_columns": null,
            "margin": null,
            "display": null,
            "left": null
          }
        },
        "e841d44fddc64ec1a4139291626b2d37": {
          "model_module": "@jupyter-widgets/controls",
          "model_name": "ProgressStyleModel",
          "model_module_version": "1.5.0",
          "state": {
            "_view_name": "StyleView",
            "_model_name": "ProgressStyleModel",
            "description_width": "",
            "_view_module": "@jupyter-widgets/base",
            "_model_module_version": "1.5.0",
            "_view_count": null,
            "_view_module_version": "1.2.0",
            "bar_color": null,
            "_model_module": "@jupyter-widgets/controls"
          }
        },
        "26e4740315234f9ebe43ac57efd8ab9e": {
          "model_module": "@jupyter-widgets/base",
          "model_name": "LayoutModel",
          "model_module_version": "1.2.0",
          "state": {
            "_view_name": "LayoutView",
            "grid_template_rows": null,
            "right": null,
            "justify_content": null,
            "_view_module": "@jupyter-widgets/base",
            "overflow": null,
            "_model_module_version": "1.2.0",
            "_view_count": null,
            "flex_flow": null,
            "width": null,
            "min_width": null,
            "border": null,
            "align_items": null,
            "bottom": null,
            "_model_module": "@jupyter-widgets/base",
            "top": null,
            "grid_column": null,
            "overflow_y": null,
            "overflow_x": null,
            "grid_auto_flow": null,
            "grid_area": null,
            "grid_template_columns": null,
            "flex": null,
            "_model_name": "LayoutModel",
            "justify_items": null,
            "grid_row": null,
            "max_height": null,
            "align_content": null,
            "visibility": null,
            "align_self": null,
            "height": null,
            "min_height": null,
            "padding": null,
            "grid_auto_rows": null,
            "grid_gap": null,
            "max_width": null,
            "order": null,
            "_view_module_version": "1.2.0",
            "grid_template_areas": null,
            "object_position": null,
            "object_fit": null,
            "grid_auto_columns": null,
            "margin": null,
            "display": null,
            "left": null
          }
        },
        "2f4f561607e54dcb8b59eea4273c599b": {
          "model_module": "@jupyter-widgets/controls",
          "model_name": "DescriptionStyleModel",
          "model_module_version": "1.5.0",
          "state": {
            "_view_name": "StyleView",
            "_model_name": "DescriptionStyleModel",
            "description_width": "",
            "_view_module": "@jupyter-widgets/base",
            "_model_module_version": "1.5.0",
            "_view_count": null,
            "_view_module_version": "1.2.0",
            "_model_module": "@jupyter-widgets/controls"
          }
        },
        "cdb6d827924646f4bd3b9e095bc889c9": {
          "model_module": "@jupyter-widgets/base",
          "model_name": "LayoutModel",
          "model_module_version": "1.2.0",
          "state": {
            "_view_name": "LayoutView",
            "grid_template_rows": null,
            "right": null,
            "justify_content": null,
            "_view_module": "@jupyter-widgets/base",
            "overflow": null,
            "_model_module_version": "1.2.0",
            "_view_count": null,
            "flex_flow": null,
            "width": null,
            "min_width": null,
            "border": null,
            "align_items": null,
            "bottom": null,
            "_model_module": "@jupyter-widgets/base",
            "top": null,
            "grid_column": null,
            "overflow_y": null,
            "overflow_x": null,
            "grid_auto_flow": null,
            "grid_area": null,
            "grid_template_columns": null,
            "flex": null,
            "_model_name": "LayoutModel",
            "justify_items": null,
            "grid_row": null,
            "max_height": null,
            "align_content": null,
            "visibility": null,
            "align_self": null,
            "height": null,
            "min_height": null,
            "padding": null,
            "grid_auto_rows": null,
            "grid_gap": null,
            "max_width": null,
            "order": null,
            "_view_module_version": "1.2.0",
            "grid_template_areas": null,
            "object_position": null,
            "object_fit": null,
            "grid_auto_columns": null,
            "margin": null,
            "display": null,
            "left": null
          }
        },
        "23103b7d22e64529ba534f0aaaf42668": {
          "model_module": "@jupyter-widgets/controls",
          "model_name": "HBoxModel",
          "model_module_version": "1.5.0",
          "state": {
            "_view_name": "HBoxView",
            "_dom_classes": [],
            "_model_name": "HBoxModel",
            "_view_module": "@jupyter-widgets/controls",
            "_model_module_version": "1.5.0",
            "_view_count": null,
            "_view_module_version": "1.5.0",
            "box_style": "",
            "layout": "IPY_MODEL_a2700fe965c045e2b0816549cd9b4dd8",
            "_model_module": "@jupyter-widgets/controls",
            "children": [
              "IPY_MODEL_7c184a1ff4364bfe84c08a55266974c4",
              "IPY_MODEL_996ff339265f431bac9066f0335ab9a8",
              "IPY_MODEL_7c0bd488b8b7490ba42f12ffae95d72a"
            ]
          }
        },
        "a2700fe965c045e2b0816549cd9b4dd8": {
          "model_module": "@jupyter-widgets/base",
          "model_name": "LayoutModel",
          "model_module_version": "1.2.0",
          "state": {
            "_view_name": "LayoutView",
            "grid_template_rows": null,
            "right": null,
            "justify_content": null,
            "_view_module": "@jupyter-widgets/base",
            "overflow": null,
            "_model_module_version": "1.2.0",
            "_view_count": null,
            "flex_flow": null,
            "width": null,
            "min_width": null,
            "border": null,
            "align_items": null,
            "bottom": null,
            "_model_module": "@jupyter-widgets/base",
            "top": null,
            "grid_column": null,
            "overflow_y": null,
            "overflow_x": null,
            "grid_auto_flow": null,
            "grid_area": null,
            "grid_template_columns": null,
            "flex": null,
            "_model_name": "LayoutModel",
            "justify_items": null,
            "grid_row": null,
            "max_height": null,
            "align_content": null,
            "visibility": null,
            "align_self": null,
            "height": null,
            "min_height": null,
            "padding": null,
            "grid_auto_rows": null,
            "grid_gap": null,
            "max_width": null,
            "order": null,
            "_view_module_version": "1.2.0",
            "grid_template_areas": null,
            "object_position": null,
            "object_fit": null,
            "grid_auto_columns": null,
            "margin": null,
            "display": null,
            "left": null
          }
        },
        "7c184a1ff4364bfe84c08a55266974c4": {
          "model_module": "@jupyter-widgets/controls",
          "model_name": "HTMLModel",
          "model_module_version": "1.5.0",
          "state": {
            "_view_name": "HTMLView",
            "style": "IPY_MODEL_9f0dc983f58b4d51b441b06c9c2b0d26",
            "_dom_classes": [],
            "description": "",
            "_model_name": "HTMLModel",
            "placeholder": "​",
            "_view_module": "@jupyter-widgets/controls",
            "_model_module_version": "1.5.0",
            "value": "Iteration: [469/469] 100%",
            "_view_count": null,
            "_view_module_version": "1.5.0",
            "description_tooltip": null,
            "_model_module": "@jupyter-widgets/controls",
            "layout": "IPY_MODEL_c3a1743bf55345f7a65bd6cdbbbb1995"
          }
        },
        "996ff339265f431bac9066f0335ab9a8": {
          "model_module": "@jupyter-widgets/controls",
          "model_name": "FloatProgressModel",
          "model_module_version": "1.5.0",
          "state": {
            "_view_name": "ProgressView",
            "style": "IPY_MODEL_6f580feb7aba441cad6f31893f81caeb",
            "_dom_classes": [],
            "description": "",
            "_model_name": "FloatProgressModel",
            "bar_style": "success",
            "max": 469,
            "_view_module": "@jupyter-widgets/controls",
            "_model_module_version": "1.5.0",
            "value": 469,
            "_view_count": null,
            "_view_module_version": "1.5.0",
            "orientation": "horizontal",
            "min": 0,
            "description_tooltip": null,
            "_model_module": "@jupyter-widgets/controls",
            "layout": "IPY_MODEL_831e3fafdd9a47fd93779f8af1395080"
          }
        },
        "7c0bd488b8b7490ba42f12ffae95d72a": {
          "model_module": "@jupyter-widgets/controls",
          "model_name": "HTMLModel",
          "model_module_version": "1.5.0",
          "state": {
            "_view_name": "HTMLView",
            "style": "IPY_MODEL_82629f144df24396beabe9d9a1d674b6",
            "_dom_classes": [],
            "description": "",
            "_model_name": "HTMLModel",
            "placeholder": "​",
            "_view_module": "@jupyter-widgets/controls",
            "_model_module_version": "1.5.0",
            "value": ", batch loss=0.0118 [00:25&lt;00:00]",
            "_view_count": null,
            "_view_module_version": "1.5.0",
            "description_tooltip": null,
            "_model_module": "@jupyter-widgets/controls",
            "layout": "IPY_MODEL_6a4d35fb7da840c798ebe6a0fd57e990"
          }
        },
        "9f0dc983f58b4d51b441b06c9c2b0d26": {
          "model_module": "@jupyter-widgets/controls",
          "model_name": "DescriptionStyleModel",
          "model_module_version": "1.5.0",
          "state": {
            "_view_name": "StyleView",
            "_model_name": "DescriptionStyleModel",
            "description_width": "",
            "_view_module": "@jupyter-widgets/base",
            "_model_module_version": "1.5.0",
            "_view_count": null,
            "_view_module_version": "1.2.0",
            "_model_module": "@jupyter-widgets/controls"
          }
        },
        "c3a1743bf55345f7a65bd6cdbbbb1995": {
          "model_module": "@jupyter-widgets/base",
          "model_name": "LayoutModel",
          "model_module_version": "1.2.0",
          "state": {
            "_view_name": "LayoutView",
            "grid_template_rows": null,
            "right": null,
            "justify_content": null,
            "_view_module": "@jupyter-widgets/base",
            "overflow": null,
            "_model_module_version": "1.2.0",
            "_view_count": null,
            "flex_flow": null,
            "width": null,
            "min_width": null,
            "border": null,
            "align_items": null,
            "bottom": null,
            "_model_module": "@jupyter-widgets/base",
            "top": null,
            "grid_column": null,
            "overflow_y": null,
            "overflow_x": null,
            "grid_auto_flow": null,
            "grid_area": null,
            "grid_template_columns": null,
            "flex": null,
            "_model_name": "LayoutModel",
            "justify_items": null,
            "grid_row": null,
            "max_height": null,
            "align_content": null,
            "visibility": null,
            "align_self": null,
            "height": null,
            "min_height": null,
            "padding": null,
            "grid_auto_rows": null,
            "grid_gap": null,
            "max_width": null,
            "order": null,
            "_view_module_version": "1.2.0",
            "grid_template_areas": null,
            "object_position": null,
            "object_fit": null,
            "grid_auto_columns": null,
            "margin": null,
            "display": null,
            "left": null
          }
        },
        "6f580feb7aba441cad6f31893f81caeb": {
          "model_module": "@jupyter-widgets/controls",
          "model_name": "ProgressStyleModel",
          "model_module_version": "1.5.0",
          "state": {
            "_view_name": "StyleView",
            "_model_name": "ProgressStyleModel",
            "description_width": "",
            "_view_module": "@jupyter-widgets/base",
            "_model_module_version": "1.5.0",
            "_view_count": null,
            "_view_module_version": "1.2.0",
            "bar_color": null,
            "_model_module": "@jupyter-widgets/controls"
          }
        },
        "831e3fafdd9a47fd93779f8af1395080": {
          "model_module": "@jupyter-widgets/base",
          "model_name": "LayoutModel",
          "model_module_version": "1.2.0",
          "state": {
            "_view_name": "LayoutView",
            "grid_template_rows": null,
            "right": null,
            "justify_content": null,
            "_view_module": "@jupyter-widgets/base",
            "overflow": null,
            "_model_module_version": "1.2.0",
            "_view_count": null,
            "flex_flow": null,
            "width": null,
            "min_width": null,
            "border": null,
            "align_items": null,
            "bottom": null,
            "_model_module": "@jupyter-widgets/base",
            "top": null,
            "grid_column": null,
            "overflow_y": null,
            "overflow_x": null,
            "grid_auto_flow": null,
            "grid_area": null,
            "grid_template_columns": null,
            "flex": null,
            "_model_name": "LayoutModel",
            "justify_items": null,
            "grid_row": null,
            "max_height": null,
            "align_content": null,
            "visibility": null,
            "align_self": null,
            "height": null,
            "min_height": null,
            "padding": null,
            "grid_auto_rows": null,
            "grid_gap": null,
            "max_width": null,
            "order": null,
            "_view_module_version": "1.2.0",
            "grid_template_areas": null,
            "object_position": null,
            "object_fit": null,
            "grid_auto_columns": null,
            "margin": null,
            "display": null,
            "left": null
          }
        },
        "82629f144df24396beabe9d9a1d674b6": {
          "model_module": "@jupyter-widgets/controls",
          "model_name": "DescriptionStyleModel",
          "model_module_version": "1.5.0",
          "state": {
            "_view_name": "StyleView",
            "_model_name": "DescriptionStyleModel",
            "description_width": "",
            "_view_module": "@jupyter-widgets/base",
            "_model_module_version": "1.5.0",
            "_view_count": null,
            "_view_module_version": "1.2.0",
            "_model_module": "@jupyter-widgets/controls"
          }
        },
        "6a4d35fb7da840c798ebe6a0fd57e990": {
          "model_module": "@jupyter-widgets/base",
          "model_name": "LayoutModel",
          "model_module_version": "1.2.0",
          "state": {
            "_view_name": "LayoutView",
            "grid_template_rows": null,
            "right": null,
            "justify_content": null,
            "_view_module": "@jupyter-widgets/base",
            "overflow": null,
            "_model_module_version": "1.2.0",
            "_view_count": null,
            "flex_flow": null,
            "width": null,
            "min_width": null,
            "border": null,
            "align_items": null,
            "bottom": null,
            "_model_module": "@jupyter-widgets/base",
            "top": null,
            "grid_column": null,
            "overflow_y": null,
            "overflow_x": null,
            "grid_auto_flow": null,
            "grid_area": null,
            "grid_template_columns": null,
            "flex": null,
            "_model_name": "LayoutModel",
            "justify_items": null,
            "grid_row": null,
            "max_height": null,
            "align_content": null,
            "visibility": null,
            "align_self": null,
            "height": null,
            "min_height": null,
            "padding": null,
            "grid_auto_rows": null,
            "grid_gap": null,
            "max_width": null,
            "order": null,
            "_view_module_version": "1.2.0",
            "grid_template_areas": null,
            "object_position": null,
            "object_fit": null,
            "grid_auto_columns": null,
            "margin": null,
            "display": null,
            "left": null
          }
        },
        "df93be35bb6947ae984de899545ae5c8": {
          "model_module": "@jupyter-widgets/controls",
          "model_name": "HBoxModel",
          "model_module_version": "1.5.0",
          "state": {
            "_view_name": "HBoxView",
            "_dom_classes": [],
            "_model_name": "HBoxModel",
            "_view_module": "@jupyter-widgets/controls",
            "_model_module_version": "1.5.0",
            "_view_count": null,
            "_view_module_version": "1.5.0",
            "box_style": "",
            "layout": "IPY_MODEL_abeb31f0db4c46768e8ec014d9313d65",
            "_model_module": "@jupyter-widgets/controls",
            "children": [
              "IPY_MODEL_63439530dd5a4eaaa1b7cc6d77542e8b",
              "IPY_MODEL_d6d90a31513b47678712402c2ca43852",
              "IPY_MODEL_7df43ac0509f44e98515d393e25080cc"
            ]
          }
        },
        "abeb31f0db4c46768e8ec014d9313d65": {
          "model_module": "@jupyter-widgets/base",
          "model_name": "LayoutModel",
          "model_module_version": "1.2.0",
          "state": {
            "_view_name": "LayoutView",
            "grid_template_rows": null,
            "right": null,
            "justify_content": null,
            "_view_module": "@jupyter-widgets/base",
            "overflow": null,
            "_model_module_version": "1.2.0",
            "_view_count": null,
            "flex_flow": null,
            "width": null,
            "min_width": null,
            "border": null,
            "align_items": null,
            "bottom": null,
            "_model_module": "@jupyter-widgets/base",
            "top": null,
            "grid_column": null,
            "overflow_y": null,
            "overflow_x": null,
            "grid_auto_flow": null,
            "grid_area": null,
            "grid_template_columns": null,
            "flex": null,
            "_model_name": "LayoutModel",
            "justify_items": null,
            "grid_row": null,
            "max_height": null,
            "align_content": null,
            "visibility": null,
            "align_self": null,
            "height": null,
            "min_height": null,
            "padding": null,
            "grid_auto_rows": null,
            "grid_gap": null,
            "max_width": null,
            "order": null,
            "_view_module_version": "1.2.0",
            "grid_template_areas": null,
            "object_position": null,
            "object_fit": null,
            "grid_auto_columns": null,
            "margin": null,
            "display": null,
            "left": null
          }
        },
        "63439530dd5a4eaaa1b7cc6d77542e8b": {
          "model_module": "@jupyter-widgets/controls",
          "model_name": "HTMLModel",
          "model_module_version": "1.5.0",
          "state": {
            "_view_name": "HTMLView",
            "style": "IPY_MODEL_bc13833b0be54b97b43d49388ed4e4d9",
            "_dom_classes": [],
            "description": "",
            "_model_name": "HTMLModel",
            "placeholder": "​",
            "_view_module": "@jupyter-widgets/controls",
            "_model_module_version": "1.5.0",
            "value": "Iteration: [469/469] 100%",
            "_view_count": null,
            "_view_module_version": "1.5.0",
            "description_tooltip": null,
            "_model_module": "@jupyter-widgets/controls",
            "layout": "IPY_MODEL_8a88c24627304b66aeea78fcd85c729d"
          }
        },
        "d6d90a31513b47678712402c2ca43852": {
          "model_module": "@jupyter-widgets/controls",
          "model_name": "FloatProgressModel",
          "model_module_version": "1.5.0",
          "state": {
            "_view_name": "ProgressView",
            "style": "IPY_MODEL_f50b2eac60144f018cf7d7312d5ef05c",
            "_dom_classes": [],
            "description": "",
            "_model_name": "FloatProgressModel",
            "bar_style": "success",
            "max": 469,
            "_view_module": "@jupyter-widgets/controls",
            "_model_module_version": "1.5.0",
            "value": 469,
            "_view_count": null,
            "_view_module_version": "1.5.0",
            "orientation": "horizontal",
            "min": 0,
            "description_tooltip": null,
            "_model_module": "@jupyter-widgets/controls",
            "layout": "IPY_MODEL_8bcd94af55034231810dc17eb80d2d80"
          }
        },
        "7df43ac0509f44e98515d393e25080cc": {
          "model_module": "@jupyter-widgets/controls",
          "model_name": "HTMLModel",
          "model_module_version": "1.5.0",
          "state": {
            "_view_name": "HTMLView",
            "style": "IPY_MODEL_bf6e4552fc0241dfb68bf5b16a09995c",
            "_dom_classes": [],
            "description": "",
            "_model_name": "HTMLModel",
            "placeholder": "​",
            "_view_module": "@jupyter-widgets/controls",
            "_model_module_version": "1.5.0",
            "value": ", batch loss=0.0024 [00:25&lt;00:00]",
            "_view_count": null,
            "_view_module_version": "1.5.0",
            "description_tooltip": null,
            "_model_module": "@jupyter-widgets/controls",
            "layout": "IPY_MODEL_e6f3665e973e4791bef8c10ba285c8cc"
          }
        },
        "bc13833b0be54b97b43d49388ed4e4d9": {
          "model_module": "@jupyter-widgets/controls",
          "model_name": "DescriptionStyleModel",
          "model_module_version": "1.5.0",
          "state": {
            "_view_name": "StyleView",
            "_model_name": "DescriptionStyleModel",
            "description_width": "",
            "_view_module": "@jupyter-widgets/base",
            "_model_module_version": "1.5.0",
            "_view_count": null,
            "_view_module_version": "1.2.0",
            "_model_module": "@jupyter-widgets/controls"
          }
        },
        "8a88c24627304b66aeea78fcd85c729d": {
          "model_module": "@jupyter-widgets/base",
          "model_name": "LayoutModel",
          "model_module_version": "1.2.0",
          "state": {
            "_view_name": "LayoutView",
            "grid_template_rows": null,
            "right": null,
            "justify_content": null,
            "_view_module": "@jupyter-widgets/base",
            "overflow": null,
            "_model_module_version": "1.2.0",
            "_view_count": null,
            "flex_flow": null,
            "width": null,
            "min_width": null,
            "border": null,
            "align_items": null,
            "bottom": null,
            "_model_module": "@jupyter-widgets/base",
            "top": null,
            "grid_column": null,
            "overflow_y": null,
            "overflow_x": null,
            "grid_auto_flow": null,
            "grid_area": null,
            "grid_template_columns": null,
            "flex": null,
            "_model_name": "LayoutModel",
            "justify_items": null,
            "grid_row": null,
            "max_height": null,
            "align_content": null,
            "visibility": null,
            "align_self": null,
            "height": null,
            "min_height": null,
            "padding": null,
            "grid_auto_rows": null,
            "grid_gap": null,
            "max_width": null,
            "order": null,
            "_view_module_version": "1.2.0",
            "grid_template_areas": null,
            "object_position": null,
            "object_fit": null,
            "grid_auto_columns": null,
            "margin": null,
            "display": null,
            "left": null
          }
        },
        "f50b2eac60144f018cf7d7312d5ef05c": {
          "model_module": "@jupyter-widgets/controls",
          "model_name": "ProgressStyleModel",
          "model_module_version": "1.5.0",
          "state": {
            "_view_name": "StyleView",
            "_model_name": "ProgressStyleModel",
            "description_width": "",
            "_view_module": "@jupyter-widgets/base",
            "_model_module_version": "1.5.0",
            "_view_count": null,
            "_view_module_version": "1.2.0",
            "bar_color": null,
            "_model_module": "@jupyter-widgets/controls"
          }
        },
        "8bcd94af55034231810dc17eb80d2d80": {
          "model_module": "@jupyter-widgets/base",
          "model_name": "LayoutModel",
          "model_module_version": "1.2.0",
          "state": {
            "_view_name": "LayoutView",
            "grid_template_rows": null,
            "right": null,
            "justify_content": null,
            "_view_module": "@jupyter-widgets/base",
            "overflow": null,
            "_model_module_version": "1.2.0",
            "_view_count": null,
            "flex_flow": null,
            "width": null,
            "min_width": null,
            "border": null,
            "align_items": null,
            "bottom": null,
            "_model_module": "@jupyter-widgets/base",
            "top": null,
            "grid_column": null,
            "overflow_y": null,
            "overflow_x": null,
            "grid_auto_flow": null,
            "grid_area": null,
            "grid_template_columns": null,
            "flex": null,
            "_model_name": "LayoutModel",
            "justify_items": null,
            "grid_row": null,
            "max_height": null,
            "align_content": null,
            "visibility": null,
            "align_self": null,
            "height": null,
            "min_height": null,
            "padding": null,
            "grid_auto_rows": null,
            "grid_gap": null,
            "max_width": null,
            "order": null,
            "_view_module_version": "1.2.0",
            "grid_template_areas": null,
            "object_position": null,
            "object_fit": null,
            "grid_auto_columns": null,
            "margin": null,
            "display": null,
            "left": null
          }
        },
        "bf6e4552fc0241dfb68bf5b16a09995c": {
          "model_module": "@jupyter-widgets/controls",
          "model_name": "DescriptionStyleModel",
          "model_module_version": "1.5.0",
          "state": {
            "_view_name": "StyleView",
            "_model_name": "DescriptionStyleModel",
            "description_width": "",
            "_view_module": "@jupyter-widgets/base",
            "_model_module_version": "1.5.0",
            "_view_count": null,
            "_view_module_version": "1.2.0",
            "_model_module": "@jupyter-widgets/controls"
          }
        },
        "e6f3665e973e4791bef8c10ba285c8cc": {
          "model_module": "@jupyter-widgets/base",
          "model_name": "LayoutModel",
          "model_module_version": "1.2.0",
          "state": {
            "_view_name": "LayoutView",
            "grid_template_rows": null,
            "right": null,
            "justify_content": null,
            "_view_module": "@jupyter-widgets/base",
            "overflow": null,
            "_model_module_version": "1.2.0",
            "_view_count": null,
            "flex_flow": null,
            "width": null,
            "min_width": null,
            "border": null,
            "align_items": null,
            "bottom": null,
            "_model_module": "@jupyter-widgets/base",
            "top": null,
            "grid_column": null,
            "overflow_y": null,
            "overflow_x": null,
            "grid_auto_flow": null,
            "grid_area": null,
            "grid_template_columns": null,
            "flex": null,
            "_model_name": "LayoutModel",
            "justify_items": null,
            "grid_row": null,
            "max_height": null,
            "align_content": null,
            "visibility": null,
            "align_self": null,
            "height": null,
            "min_height": null,
            "padding": null,
            "grid_auto_rows": null,
            "grid_gap": null,
            "max_width": null,
            "order": null,
            "_view_module_version": "1.2.0",
            "grid_template_areas": null,
            "object_position": null,
            "object_fit": null,
            "grid_auto_columns": null,
            "margin": null,
            "display": null,
            "left": null
          }
        },
        "372e4f301eeb4d3883324eaaf5fb3f2b": {
          "model_module": "@jupyter-widgets/controls",
          "model_name": "HBoxModel",
          "model_module_version": "1.5.0",
          "state": {
            "_view_name": "HBoxView",
            "_dom_classes": [],
            "_model_name": "HBoxModel",
            "_view_module": "@jupyter-widgets/controls",
            "_model_module_version": "1.5.0",
            "_view_count": null,
            "_view_module_version": "1.5.0",
            "box_style": "",
            "layout": "IPY_MODEL_49c44e34bab841a2ab075f46ffb33052",
            "_model_module": "@jupyter-widgets/controls",
            "children": [
              "IPY_MODEL_39b56da982584ec19862071c053d5127",
              "IPY_MODEL_1b267e7a998f4d08bea3d539ec83a3af",
              "IPY_MODEL_7270c15c908b432da3b4791107fbbab0"
            ]
          }
        },
        "49c44e34bab841a2ab075f46ffb33052": {
          "model_module": "@jupyter-widgets/base",
          "model_name": "LayoutModel",
          "model_module_version": "1.2.0",
          "state": {
            "_view_name": "LayoutView",
            "grid_template_rows": null,
            "right": null,
            "justify_content": null,
            "_view_module": "@jupyter-widgets/base",
            "overflow": null,
            "_model_module_version": "1.2.0",
            "_view_count": null,
            "flex_flow": null,
            "width": null,
            "min_width": null,
            "border": null,
            "align_items": null,
            "bottom": null,
            "_model_module": "@jupyter-widgets/base",
            "top": null,
            "grid_column": null,
            "overflow_y": null,
            "overflow_x": null,
            "grid_auto_flow": null,
            "grid_area": null,
            "grid_template_columns": null,
            "flex": null,
            "_model_name": "LayoutModel",
            "justify_items": null,
            "grid_row": null,
            "max_height": null,
            "align_content": null,
            "visibility": null,
            "align_self": null,
            "height": null,
            "min_height": null,
            "padding": null,
            "grid_auto_rows": null,
            "grid_gap": null,
            "max_width": null,
            "order": null,
            "_view_module_version": "1.2.0",
            "grid_template_areas": null,
            "object_position": null,
            "object_fit": null,
            "grid_auto_columns": null,
            "margin": null,
            "display": null,
            "left": null
          }
        },
        "39b56da982584ec19862071c053d5127": {
          "model_module": "@jupyter-widgets/controls",
          "model_name": "HTMLModel",
          "model_module_version": "1.5.0",
          "state": {
            "_view_name": "HTMLView",
            "style": "IPY_MODEL_ea2837821019445891c0b6cf58273c6e",
            "_dom_classes": [],
            "description": "",
            "_model_name": "HTMLModel",
            "placeholder": "​",
            "_view_module": "@jupyter-widgets/controls",
            "_model_module_version": "1.5.0",
            "value": "Iteration: [469/469] 100%",
            "_view_count": null,
            "_view_module_version": "1.5.0",
            "description_tooltip": null,
            "_model_module": "@jupyter-widgets/controls",
            "layout": "IPY_MODEL_d178e57450234d52bce0695a1837a9bf"
          }
        },
        "1b267e7a998f4d08bea3d539ec83a3af": {
          "model_module": "@jupyter-widgets/controls",
          "model_name": "FloatProgressModel",
          "model_module_version": "1.5.0",
          "state": {
            "_view_name": "ProgressView",
            "style": "IPY_MODEL_b84145cbc1f1451fb7ab6b4366c20d81",
            "_dom_classes": [],
            "description": "",
            "_model_name": "FloatProgressModel",
            "bar_style": "success",
            "max": 469,
            "_view_module": "@jupyter-widgets/controls",
            "_model_module_version": "1.5.0",
            "value": 469,
            "_view_count": null,
            "_view_module_version": "1.5.0",
            "orientation": "horizontal",
            "min": 0,
            "description_tooltip": null,
            "_model_module": "@jupyter-widgets/controls",
            "layout": "IPY_MODEL_05a60bc8e8d54a1f8bd1c06d3ec0b7fc"
          }
        },
        "7270c15c908b432da3b4791107fbbab0": {
          "model_module": "@jupyter-widgets/controls",
          "model_name": "HTMLModel",
          "model_module_version": "1.5.0",
          "state": {
            "_view_name": "HTMLView",
            "style": "IPY_MODEL_ca154e195daf467ca259e307982f16cb",
            "_dom_classes": [],
            "description": "",
            "_model_name": "HTMLModel",
            "placeholder": "​",
            "_view_module": "@jupyter-widgets/controls",
            "_model_module_version": "1.5.0",
            "value": ", batch loss=0.0171 [00:25&lt;00:00]",
            "_view_count": null,
            "_view_module_version": "1.5.0",
            "description_tooltip": null,
            "_model_module": "@jupyter-widgets/controls",
            "layout": "IPY_MODEL_fe22868d5653437b894fb755c132bec1"
          }
        },
        "ea2837821019445891c0b6cf58273c6e": {
          "model_module": "@jupyter-widgets/controls",
          "model_name": "DescriptionStyleModel",
          "model_module_version": "1.5.0",
          "state": {
            "_view_name": "StyleView",
            "_model_name": "DescriptionStyleModel",
            "description_width": "",
            "_view_module": "@jupyter-widgets/base",
            "_model_module_version": "1.5.0",
            "_view_count": null,
            "_view_module_version": "1.2.0",
            "_model_module": "@jupyter-widgets/controls"
          }
        },
        "d178e57450234d52bce0695a1837a9bf": {
          "model_module": "@jupyter-widgets/base",
          "model_name": "LayoutModel",
          "model_module_version": "1.2.0",
          "state": {
            "_view_name": "LayoutView",
            "grid_template_rows": null,
            "right": null,
            "justify_content": null,
            "_view_module": "@jupyter-widgets/base",
            "overflow": null,
            "_model_module_version": "1.2.0",
            "_view_count": null,
            "flex_flow": null,
            "width": null,
            "min_width": null,
            "border": null,
            "align_items": null,
            "bottom": null,
            "_model_module": "@jupyter-widgets/base",
            "top": null,
            "grid_column": null,
            "overflow_y": null,
            "overflow_x": null,
            "grid_auto_flow": null,
            "grid_area": null,
            "grid_template_columns": null,
            "flex": null,
            "_model_name": "LayoutModel",
            "justify_items": null,
            "grid_row": null,
            "max_height": null,
            "align_content": null,
            "visibility": null,
            "align_self": null,
            "height": null,
            "min_height": null,
            "padding": null,
            "grid_auto_rows": null,
            "grid_gap": null,
            "max_width": null,
            "order": null,
            "_view_module_version": "1.2.0",
            "grid_template_areas": null,
            "object_position": null,
            "object_fit": null,
            "grid_auto_columns": null,
            "margin": null,
            "display": null,
            "left": null
          }
        },
        "b84145cbc1f1451fb7ab6b4366c20d81": {
          "model_module": "@jupyter-widgets/controls",
          "model_name": "ProgressStyleModel",
          "model_module_version": "1.5.0",
          "state": {
            "_view_name": "StyleView",
            "_model_name": "ProgressStyleModel",
            "description_width": "",
            "_view_module": "@jupyter-widgets/base",
            "_model_module_version": "1.5.0",
            "_view_count": null,
            "_view_module_version": "1.2.0",
            "bar_color": null,
            "_model_module": "@jupyter-widgets/controls"
          }
        },
        "05a60bc8e8d54a1f8bd1c06d3ec0b7fc": {
          "model_module": "@jupyter-widgets/base",
          "model_name": "LayoutModel",
          "model_module_version": "1.2.0",
          "state": {
            "_view_name": "LayoutView",
            "grid_template_rows": null,
            "right": null,
            "justify_content": null,
            "_view_module": "@jupyter-widgets/base",
            "overflow": null,
            "_model_module_version": "1.2.0",
            "_view_count": null,
            "flex_flow": null,
            "width": null,
            "min_width": null,
            "border": null,
            "align_items": null,
            "bottom": null,
            "_model_module": "@jupyter-widgets/base",
            "top": null,
            "grid_column": null,
            "overflow_y": null,
            "overflow_x": null,
            "grid_auto_flow": null,
            "grid_area": null,
            "grid_template_columns": null,
            "flex": null,
            "_model_name": "LayoutModel",
            "justify_items": null,
            "grid_row": null,
            "max_height": null,
            "align_content": null,
            "visibility": null,
            "align_self": null,
            "height": null,
            "min_height": null,
            "padding": null,
            "grid_auto_rows": null,
            "grid_gap": null,
            "max_width": null,
            "order": null,
            "_view_module_version": "1.2.0",
            "grid_template_areas": null,
            "object_position": null,
            "object_fit": null,
            "grid_auto_columns": null,
            "margin": null,
            "display": null,
            "left": null
          }
        },
        "ca154e195daf467ca259e307982f16cb": {
          "model_module": "@jupyter-widgets/controls",
          "model_name": "DescriptionStyleModel",
          "model_module_version": "1.5.0",
          "state": {
            "_view_name": "StyleView",
            "_model_name": "DescriptionStyleModel",
            "description_width": "",
            "_view_module": "@jupyter-widgets/base",
            "_model_module_version": "1.5.0",
            "_view_count": null,
            "_view_module_version": "1.2.0",
            "_model_module": "@jupyter-widgets/controls"
          }
        },
        "fe22868d5653437b894fb755c132bec1": {
          "model_module": "@jupyter-widgets/base",
          "model_name": "LayoutModel",
          "model_module_version": "1.2.0",
          "state": {
            "_view_name": "LayoutView",
            "grid_template_rows": null,
            "right": null,
            "justify_content": null,
            "_view_module": "@jupyter-widgets/base",
            "overflow": null,
            "_model_module_version": "1.2.0",
            "_view_count": null,
            "flex_flow": null,
            "width": null,
            "min_width": null,
            "border": null,
            "align_items": null,
            "bottom": null,
            "_model_module": "@jupyter-widgets/base",
            "top": null,
            "grid_column": null,
            "overflow_y": null,
            "overflow_x": null,
            "grid_auto_flow": null,
            "grid_area": null,
            "grid_template_columns": null,
            "flex": null,
            "_model_name": "LayoutModel",
            "justify_items": null,
            "grid_row": null,
            "max_height": null,
            "align_content": null,
            "visibility": null,
            "align_self": null,
            "height": null,
            "min_height": null,
            "padding": null,
            "grid_auto_rows": null,
            "grid_gap": null,
            "max_width": null,
            "order": null,
            "_view_module_version": "1.2.0",
            "grid_template_areas": null,
            "object_position": null,
            "object_fit": null,
            "grid_auto_columns": null,
            "margin": null,
            "display": null,
            "left": null
          }
        },
        "18d70150c4d6462bb28c00ec3ae1b70e": {
          "model_module": "@jupyter-widgets/controls",
          "model_name": "HBoxModel",
          "model_module_version": "1.5.0",
          "state": {
            "_view_name": "HBoxView",
            "_dom_classes": [],
            "_model_name": "HBoxModel",
            "_view_module": "@jupyter-widgets/controls",
            "_model_module_version": "1.5.0",
            "_view_count": null,
            "_view_module_version": "1.5.0",
            "box_style": "",
            "layout": "IPY_MODEL_4043dd742e954fba858ba08779d9683f",
            "_model_module": "@jupyter-widgets/controls",
            "children": [
              "IPY_MODEL_db95a9508b96482484b1d1281ba0f343",
              "IPY_MODEL_5f223f8d362b407a95afd8c8a71c557b",
              "IPY_MODEL_dcaa09fd849b47b0a9f8803f399f290b"
            ]
          }
        },
        "4043dd742e954fba858ba08779d9683f": {
          "model_module": "@jupyter-widgets/base",
          "model_name": "LayoutModel",
          "model_module_version": "1.2.0",
          "state": {
            "_view_name": "LayoutView",
            "grid_template_rows": null,
            "right": null,
            "justify_content": null,
            "_view_module": "@jupyter-widgets/base",
            "overflow": null,
            "_model_module_version": "1.2.0",
            "_view_count": null,
            "flex_flow": null,
            "width": null,
            "min_width": null,
            "border": null,
            "align_items": null,
            "bottom": null,
            "_model_module": "@jupyter-widgets/base",
            "top": null,
            "grid_column": null,
            "overflow_y": null,
            "overflow_x": null,
            "grid_auto_flow": null,
            "grid_area": null,
            "grid_template_columns": null,
            "flex": null,
            "_model_name": "LayoutModel",
            "justify_items": null,
            "grid_row": null,
            "max_height": null,
            "align_content": null,
            "visibility": null,
            "align_self": null,
            "height": null,
            "min_height": null,
            "padding": null,
            "grid_auto_rows": null,
            "grid_gap": null,
            "max_width": null,
            "order": null,
            "_view_module_version": "1.2.0",
            "grid_template_areas": null,
            "object_position": null,
            "object_fit": null,
            "grid_auto_columns": null,
            "margin": null,
            "display": null,
            "left": null
          }
        },
        "db95a9508b96482484b1d1281ba0f343": {
          "model_module": "@jupyter-widgets/controls",
          "model_name": "HTMLModel",
          "model_module_version": "1.5.0",
          "state": {
            "_view_name": "HTMLView",
            "style": "IPY_MODEL_c43302b575ca459a9d96cb03dc0d7eb9",
            "_dom_classes": [],
            "description": "",
            "_model_name": "HTMLModel",
            "placeholder": "​",
            "_view_module": "@jupyter-widgets/controls",
            "_model_module_version": "1.5.0",
            "value": "Iteration: [469/469] 100%",
            "_view_count": null,
            "_view_module_version": "1.5.0",
            "description_tooltip": null,
            "_model_module": "@jupyter-widgets/controls",
            "layout": "IPY_MODEL_d5821ddb2ead461b8e22be8b53c7c4d4"
          }
        },
        "5f223f8d362b407a95afd8c8a71c557b": {
          "model_module": "@jupyter-widgets/controls",
          "model_name": "FloatProgressModel",
          "model_module_version": "1.5.0",
          "state": {
            "_view_name": "ProgressView",
            "style": "IPY_MODEL_183466dbfa274961a51800196735c7df",
            "_dom_classes": [],
            "description": "",
            "_model_name": "FloatProgressModel",
            "bar_style": "success",
            "max": 469,
            "_view_module": "@jupyter-widgets/controls",
            "_model_module_version": "1.5.0",
            "value": 469,
            "_view_count": null,
            "_view_module_version": "1.5.0",
            "orientation": "horizontal",
            "min": 0,
            "description_tooltip": null,
            "_model_module": "@jupyter-widgets/controls",
            "layout": "IPY_MODEL_ce592fe22a4a459ebcc298142e7278a6"
          }
        },
        "dcaa09fd849b47b0a9f8803f399f290b": {
          "model_module": "@jupyter-widgets/controls",
          "model_name": "HTMLModel",
          "model_module_version": "1.5.0",
          "state": {
            "_view_name": "HTMLView",
            "style": "IPY_MODEL_fa57bfa50f1f4a048d4394bc263ab45e",
            "_dom_classes": [],
            "description": "",
            "_model_name": "HTMLModel",
            "placeholder": "​",
            "_view_module": "@jupyter-widgets/controls",
            "_model_module_version": "1.5.0",
            "value": ", batch loss=0.0163 [00:25&lt;00:00]",
            "_view_count": null,
            "_view_module_version": "1.5.0",
            "description_tooltip": null,
            "_model_module": "@jupyter-widgets/controls",
            "layout": "IPY_MODEL_418086d2b1584038bb22ece05ae3a075"
          }
        },
        "c43302b575ca459a9d96cb03dc0d7eb9": {
          "model_module": "@jupyter-widgets/controls",
          "model_name": "DescriptionStyleModel",
          "model_module_version": "1.5.0",
          "state": {
            "_view_name": "StyleView",
            "_model_name": "DescriptionStyleModel",
            "description_width": "",
            "_view_module": "@jupyter-widgets/base",
            "_model_module_version": "1.5.0",
            "_view_count": null,
            "_view_module_version": "1.2.0",
            "_model_module": "@jupyter-widgets/controls"
          }
        },
        "d5821ddb2ead461b8e22be8b53c7c4d4": {
          "model_module": "@jupyter-widgets/base",
          "model_name": "LayoutModel",
          "model_module_version": "1.2.0",
          "state": {
            "_view_name": "LayoutView",
            "grid_template_rows": null,
            "right": null,
            "justify_content": null,
            "_view_module": "@jupyter-widgets/base",
            "overflow": null,
            "_model_module_version": "1.2.0",
            "_view_count": null,
            "flex_flow": null,
            "width": null,
            "min_width": null,
            "border": null,
            "align_items": null,
            "bottom": null,
            "_model_module": "@jupyter-widgets/base",
            "top": null,
            "grid_column": null,
            "overflow_y": null,
            "overflow_x": null,
            "grid_auto_flow": null,
            "grid_area": null,
            "grid_template_columns": null,
            "flex": null,
            "_model_name": "LayoutModel",
            "justify_items": null,
            "grid_row": null,
            "max_height": null,
            "align_content": null,
            "visibility": null,
            "align_self": null,
            "height": null,
            "min_height": null,
            "padding": null,
            "grid_auto_rows": null,
            "grid_gap": null,
            "max_width": null,
            "order": null,
            "_view_module_version": "1.2.0",
            "grid_template_areas": null,
            "object_position": null,
            "object_fit": null,
            "grid_auto_columns": null,
            "margin": null,
            "display": null,
            "left": null
          }
        },
        "183466dbfa274961a51800196735c7df": {
          "model_module": "@jupyter-widgets/controls",
          "model_name": "ProgressStyleModel",
          "model_module_version": "1.5.0",
          "state": {
            "_view_name": "StyleView",
            "_model_name": "ProgressStyleModel",
            "description_width": "",
            "_view_module": "@jupyter-widgets/base",
            "_model_module_version": "1.5.0",
            "_view_count": null,
            "_view_module_version": "1.2.0",
            "bar_color": null,
            "_model_module": "@jupyter-widgets/controls"
          }
        },
        "ce592fe22a4a459ebcc298142e7278a6": {
          "model_module": "@jupyter-widgets/base",
          "model_name": "LayoutModel",
          "model_module_version": "1.2.0",
          "state": {
            "_view_name": "LayoutView",
            "grid_template_rows": null,
            "right": null,
            "justify_content": null,
            "_view_module": "@jupyter-widgets/base",
            "overflow": null,
            "_model_module_version": "1.2.0",
            "_view_count": null,
            "flex_flow": null,
            "width": null,
            "min_width": null,
            "border": null,
            "align_items": null,
            "bottom": null,
            "_model_module": "@jupyter-widgets/base",
            "top": null,
            "grid_column": null,
            "overflow_y": null,
            "overflow_x": null,
            "grid_auto_flow": null,
            "grid_area": null,
            "grid_template_columns": null,
            "flex": null,
            "_model_name": "LayoutModel",
            "justify_items": null,
            "grid_row": null,
            "max_height": null,
            "align_content": null,
            "visibility": null,
            "align_self": null,
            "height": null,
            "min_height": null,
            "padding": null,
            "grid_auto_rows": null,
            "grid_gap": null,
            "max_width": null,
            "order": null,
            "_view_module_version": "1.2.0",
            "grid_template_areas": null,
            "object_position": null,
            "object_fit": null,
            "grid_auto_columns": null,
            "margin": null,
            "display": null,
            "left": null
          }
        },
        "fa57bfa50f1f4a048d4394bc263ab45e": {
          "model_module": "@jupyter-widgets/controls",
          "model_name": "DescriptionStyleModel",
          "model_module_version": "1.5.0",
          "state": {
            "_view_name": "StyleView",
            "_model_name": "DescriptionStyleModel",
            "description_width": "",
            "_view_module": "@jupyter-widgets/base",
            "_model_module_version": "1.5.0",
            "_view_count": null,
            "_view_module_version": "1.2.0",
            "_model_module": "@jupyter-widgets/controls"
          }
        },
        "418086d2b1584038bb22ece05ae3a075": {
          "model_module": "@jupyter-widgets/base",
          "model_name": "LayoutModel",
          "model_module_version": "1.2.0",
          "state": {
            "_view_name": "LayoutView",
            "grid_template_rows": null,
            "right": null,
            "justify_content": null,
            "_view_module": "@jupyter-widgets/base",
            "overflow": null,
            "_model_module_version": "1.2.0",
            "_view_count": null,
            "flex_flow": null,
            "width": null,
            "min_width": null,
            "border": null,
            "align_items": null,
            "bottom": null,
            "_model_module": "@jupyter-widgets/base",
            "top": null,
            "grid_column": null,
            "overflow_y": null,
            "overflow_x": null,
            "grid_auto_flow": null,
            "grid_area": null,
            "grid_template_columns": null,
            "flex": null,
            "_model_name": "LayoutModel",
            "justify_items": null,
            "grid_row": null,
            "max_height": null,
            "align_content": null,
            "visibility": null,
            "align_self": null,
            "height": null,
            "min_height": null,
            "padding": null,
            "grid_auto_rows": null,
            "grid_gap": null,
            "max_width": null,
            "order": null,
            "_view_module_version": "1.2.0",
            "grid_template_areas": null,
            "object_position": null,
            "object_fit": null,
            "grid_auto_columns": null,
            "margin": null,
            "display": null,
            "left": null
          }
        }
      }
    }
  },
  "cells": [
    {
      "cell_type": "code",
      "metadata": {
        "colab": {
          "base_uri": "https://localhost:8080/"
        },
        "id": "MqRZ6SSSGAv6",
        "outputId": "1d73be36-e69e-41ce-f51f-9824e7568dd3"
      },
      "source": [
        "! pip install pytorch-ignite"
      ],
      "execution_count": null,
      "outputs": [
        {
          "output_type": "stream",
          "text": [
            "Requirement already satisfied: pytorch-ignite in /usr/local/lib/python3.7/dist-packages (0.4.6)\n",
            "Requirement already satisfied: torch<2,>=1.3 in /usr/local/lib/python3.7/dist-packages (from pytorch-ignite) (1.9.0+cu102)\n",
            "Requirement already satisfied: typing-extensions in /usr/local/lib/python3.7/dist-packages (from torch<2,>=1.3->pytorch-ignite) (3.7.4.3)\n"
          ],
          "name": "stdout"
        }
      ]
    },
    {
      "cell_type": "code",
      "metadata": {
        "id": "bh4qQfXlGFSw"
      },
      "source": [
        "import ignite"
      ],
      "execution_count": null,
      "outputs": []
    },
    {
      "cell_type": "code",
      "metadata": {
        "colab": {
          "base_uri": "https://localhost:8080/"
        },
        "id": "naSJyCeRGO1Y",
        "outputId": "b6cbf491-d648-49b5-b13f-047c67d4c96b"
      },
      "source": [
        "print(f'ignite version: {ignite.__version__}')"
      ],
      "execution_count": null,
      "outputs": [
        {
          "output_type": "stream",
          "text": [
            "ignite version: 0.4.6\n"
          ],
          "name": "stdout"
        }
      ]
    },
    {
      "cell_type": "code",
      "metadata": {
        "id": "rW_Dk9x-GRam"
      },
      "source": [
        "import matplotlib.pyplot as plt\n",
        "import numpy as np\n",
        "import seaborn as sns"
      ],
      "execution_count": null,
      "outputs": []
    },
    {
      "cell_type": "code",
      "metadata": {
        "id": "lWDTjIROGidR"
      },
      "source": [
        "import torch\n",
        "from torch import nn, optim\n",
        "import torch.nn.functional as F\n",
        "from torch.utils.data import DataLoader\n",
        "from torchvision import datasets, transforms\n",
        "from ignite.engine import Events, create_supervised_trainer, create_supervised_evaluator\n",
        "from ignite.metrics import Accuracy, Loss, RunningAverage, ConfusionMatrix\n",
        "from ignite.handlers import ModelCheckpoint, EarlyStopping\n",
        "from ignite.contrib.handlers import ProgressBar"
      ],
      "execution_count": null,
      "outputs": []
    },
    {
      "cell_type": "code",
      "metadata": {
        "colab": {
          "base_uri": "https://localhost:8080/"
        },
        "id": "koTRbAZlG-l3",
        "outputId": "02aeb6d8-5b37-48b3-9078-e95418874715"
      },
      "source": [
        "print(torch.__version__)"
      ],
      "execution_count": null,
      "outputs": [
        {
          "output_type": "stream",
          "text": [
            "1.9.0+cu102\n"
          ],
          "name": "stdout"
        }
      ]
    },
    {
      "cell_type": "code",
      "metadata": {
        "id": "LYdbmk9eHDxN"
      },
      "source": [
        "def get_data_sample():\n",
        "    batch_size = 128\n",
        "    transform_fn = transforms.Compose([\n",
        "        transforms.ToTensor(),\n",
        "        transforms.Normalize((0.5), (0.5))\n",
        "    ])\n",
        "    # setting\n",
        "    trainset = datasets.MNIST('./data', download=True, train=True, transform=transform_fn)\n",
        "    train_loader = DataLoader(trainset, batch_size=batch_size, shuffle=True)\n",
        "\n",
        "    validationset = datasets.MNIST('./data', download=True, train=False, transform=transform_fn)\n",
        "    val_loader = DataLoader(validationset, batch_size=batch_size, shuffle=True)\n",
        "\n",
        "    return train_loader, val_loader"
      ],
      "execution_count": null,
      "outputs": []
    },
    {
      "cell_type": "code",
      "metadata": {
        "colab": {
          "base_uri": "https://localhost:8080/"
        },
        "id": "rFy2pS_YIutf",
        "outputId": "2ac3087c-79c4-432d-db00-6a3ad4107a38"
      },
      "source": [
        "train_loader, val_loader = get_data_sample()\n",
        "print(f\"train data information: {train_loader.dataset}\")"
      ],
      "execution_count": null,
      "outputs": [
        {
          "output_type": "stream",
          "text": [
            "train data information: Dataset MNIST\n",
            "    Number of datapoints: 60000\n",
            "    Root location: ./data\n",
            "    Split: Train\n",
            "    StandardTransform\n",
            "Transform: Compose(\n",
            "               ToTensor()\n",
            "               Normalize(mean=0.5, std=0.5)\n",
            "           )\n"
          ],
          "name": "stdout"
        }
      ]
    },
    {
      "cell_type": "code",
      "metadata": {
        "id": "XLgxif5fIxjG"
      },
      "source": [
        "class ConvolutionNeuralNet(nn.Module):\n",
        "    \n",
        "    def __init__(self):\n",
        "        super(ConvolutionNeuralNet, self).__init__()\n",
        "        self.feature_1 = nn.Sequential(\n",
        "            nn.Conv2d(1, 32, 3, padding=1),\n",
        "            nn.BatchNorm2d(32),\n",
        "            nn.ReLU(),\n",
        "            nn.MaxPool2d(kernel_size=2, stride=2)\n",
        "        )\n",
        "\n",
        "        self.feature_2 = nn.Sequential(\n",
        "            nn.Conv2d(32, 64, 3),\n",
        "            nn.BatchNorm2d(64),\n",
        "            nn.ReLU(),\n",
        "            nn.MaxPool2d(kernel_size=2, stride=2)\n",
        "        )\n",
        "        \n",
        "        self.fc_1 = nn.Linear(64 * 6 * 6, 600)\n",
        "        self.drop = nn.Dropout2d(0.25)\n",
        "        self.fc_2 = nn.Linear(600, 120)\n",
        "        self.fc_3 = nn.Linear(120, 10)\n",
        "    \n",
        "    def forward(self, input_x):\n",
        "\n",
        "        # 이미지의 특징점을 찾아주는 네트워크\n",
        "        x = self.feature_1(input_x)\n",
        "        x = self.feature_2(x)\n",
        "\n",
        "        # 찾아준 특징점을 가지고 이미지를 분류하는 네트워크\n",
        "        x = x.view(-1, 64 * 6 * 6)\n",
        "        x = self.fc_1(x)\n",
        "        x = self.drop(x)\n",
        "        x = self.fc_2(x)\n",
        "        x = self.fc_3(x)\n",
        "\n",
        "        return F.log_softmax(x, dim=1)"
      ],
      "execution_count": null,
      "outputs": []
    },
    {
      "cell_type": "code",
      "metadata": {
        "id": "ZIK0c1tJJhyT"
      },
      "source": [
        "train_loader, val_loader = get_data_sample()"
      ],
      "execution_count": null,
      "outputs": []
    },
    {
      "cell_type": "markdown",
      "metadata": {
        "id": "Kr1ES23uOUNm"
      },
      "source": [
        ""
      ]
    },
    {
      "cell_type": "code",
      "metadata": {
        "id": "OgsAdpT3M4mY"
      },
      "source": [
        "model = ConvolutionNeuralNet()\n",
        "device = torch.device(\"cuda:0\" if torch.cuda.is_available() else \"cpu\")\n",
        "model = model.to(device)\n",
        "optim = optim.Adam(model.parameters(), lr=1e-3)\n",
        "loss_fn = nn.NLLLoss()"
      ],
      "execution_count": null,
      "outputs": []
    },
    {
      "cell_type": "code",
      "metadata": {
        "id": "U1xPLe-rM9S7"
      },
      "source": [
        "# 학습을할 operation 평가를할 operation\n",
        "\n",
        "metrics = {\n",
        "    'accuracy': Accuracy(),\n",
        "    'nll': Loss(loss_fn),\n",
        "    'cm': ConfusionMatrix(num_classes=10)\n",
        "}\n",
        "trainer = create_supervised_trainer(model, optim, loss_fn, device=device)\n",
        "\"\"\"\n",
        "    train_evaluator: 현재 학습하는데이터로 평가를 했을 경우\n",
        "    val_evaluator:  학데이터로 평가를 했을 경우\n",
        "\"\"\"\n",
        "train_evaluator = create_supervised_evaluator(model, metrics=metrics, device=device)\n",
        "val_evaluator = create_supervised_evaluator(model, metrics=metrics, device=device)\n",
        "\n",
        "training_history = {'accuracy': [], 'loss': []}\n",
        "validation_history = {'accuracy': [], 'loss': []}\n",
        "\n",
        "last_epoch = []"
      ],
      "execution_count": null,
      "outputs": []
    },
    {
      "cell_type": "code",
      "metadata": {
        "id": "sSt-OQsNQ1dc"
      },
      "source": [
        "RunningAverage(output_transform=lambda x: x).attach(trainer, 'loss')"
      ],
      "execution_count": null,
      "outputs": []
    },
    {
      "cell_type": "code",
      "metadata": {
        "id": "YOG9eAQ2TwBC"
      },
      "source": [
        "def score_function(engine):\n",
        "    val_loss = engine.state.metrics['nll']\n",
        "    return -val_loss"
      ],
      "execution_count": null,
      "outputs": []
    },
    {
      "cell_type": "code",
      "metadata": {
        "id": "6af2vj9sUCkv"
      },
      "source": [
        "@trainer.on(Events.EPOCH_COMPLETED)\n",
        "def log_training_results(trainer):\n",
        "    train_evaluator.run(train_loader)\n",
        "\n",
        "    metrics = train_evaluator.state.metrics\n",
        "    accuracy = metrics['accuracy'] * 100\n",
        "    loss = metrics['nll']\n",
        "    last_epoch.append(0)\n",
        "    \n",
        "    # log visualzation (loss function value, accuracy value)\n",
        "    \n",
        "    training_history['accuracy'].append(accuracy)\n",
        "    training_history['loss'].append(loss)\n",
        "    print(f\"Training Results - Epoch {trainer.state.epoch} Avg accuracy: {accuracy}, Avg loss: {loss:.4f}\")"
      ],
      "execution_count": null,
      "outputs": []
    },
    {
      "cell_type": "code",
      "metadata": {
        "id": "zPQXDwbJVOFe"
      },
      "source": [
        "def log_validation_results(trainer):\n",
        "    val_evaluator.run(val_loader)\n",
        "\n",
        "    metrics = val_evaluator.state.metrics\n",
        "    accuracy = metrics['accuracy'] * 100\n",
        "    loss = metrics['nll']\n",
        "\n",
        "    validation_history['accuracy'].append(accuracy)\n",
        "    validation_history['loss'].append(loss)\n",
        "    print(f\"Validation Results - Epoch: {val_evaluator.state.epoch} Avg accuracy: {accuracy}, Avg loss: {loss:.4f}\")"
      ],
      "execution_count": null,
      "outputs": []
    },
    {
      "cell_type": "code",
      "metadata": {
        "id": "RbU6zZo9VwCD"
      },
      "source": [
        "@trainer.on(Events.COMPLETED)\n",
        "def log_confusion_matrix(trainer):\n",
        "    val_evaluator.run(val_loader)\n",
        "    metrics = val_evaluator.state.metrics\n",
        "    cm = metrics['cm']\n",
        "    cm = cm.numpy()\n",
        "    cm = cm.astype(int)\n",
        "    classes = ['Zero','One','Two','Three','Four','Five','Six','Seven','Eight','Nine']\n",
        "    fig, ax = plt.subplots(figsize=(10, 10))\n",
        "    ax = plt.subplot()\n",
        "    sns.heatmap(cm, annot=True, ax=ax, fmt=\"d\")\n",
        "    \n",
        "    # Ture Label, Prediction Label\n",
        "\n",
        "    ax.set_xlabel('prediction labels')\n",
        "    ax.set_ylabel('true labels')\n",
        "    ax.set_title('confusion matirx')\n",
        "    ax.xaxis.set_ticklabels(classes, rotation=90)\n",
        "    ax.yaxis.set_ticklabels(classes, rotation=0)"
      ],
      "execution_count": null,
      "outputs": []
    },
    {
      "cell_type": "code",
      "metadata": {
        "id": "O2I0pVJAW4SB"
      },
      "source": [
        "handler = EarlyStopping(patience=10, score_function=score_function, trainer=trainer)\n",
        "val_evaluator.add_event_handler(Events.COMPLETED, handler)\n",
        "trainer.add_event_handler(Events.EPOCH_COMPLETED, log_validation_results)\n",
        "checkpointer = ModelCheckpoint('./saved_models', 'MNIST', n_saved=2, create_dir=True, save_as_state_dict=True, require_empty=False)"
      ],
      "execution_count": null,
      "outputs": []
    },
    {
      "cell_type": "code",
      "metadata": {
        "colab": {
          "base_uri": "https://localhost:8080/",
          "height": 1000,
          "referenced_widgets": [
            "e47427c9c5a54c158d537738b8b02494",
            "f79786aa27994367a1b275a291af17d6",
            "b0fbb56d1c034c459af320b595b6803e",
            "97b8c422dbd94457860d960a148e0b76",
            "1c0ec65992014d52b85893c510125398",
            "efa9d5bdbf004dcaa7f6a5594976b18c",
            "33c7a0f2d6fa42e1a9b4432043714c2f",
            "e841d44fddc64ec1a4139291626b2d37",
            "26e4740315234f9ebe43ac57efd8ab9e",
            "2f4f561607e54dcb8b59eea4273c599b",
            "cdb6d827924646f4bd3b9e095bc889c9",
            "23103b7d22e64529ba534f0aaaf42668",
            "a2700fe965c045e2b0816549cd9b4dd8",
            "7c184a1ff4364bfe84c08a55266974c4",
            "996ff339265f431bac9066f0335ab9a8",
            "7c0bd488b8b7490ba42f12ffae95d72a",
            "9f0dc983f58b4d51b441b06c9c2b0d26",
            "c3a1743bf55345f7a65bd6cdbbbb1995",
            "6f580feb7aba441cad6f31893f81caeb",
            "831e3fafdd9a47fd93779f8af1395080",
            "82629f144df24396beabe9d9a1d674b6",
            "6a4d35fb7da840c798ebe6a0fd57e990",
            "df93be35bb6947ae984de899545ae5c8",
            "abeb31f0db4c46768e8ec014d9313d65",
            "63439530dd5a4eaaa1b7cc6d77542e8b",
            "d6d90a31513b47678712402c2ca43852",
            "7df43ac0509f44e98515d393e25080cc",
            "bc13833b0be54b97b43d49388ed4e4d9",
            "8a88c24627304b66aeea78fcd85c729d",
            "f50b2eac60144f018cf7d7312d5ef05c",
            "8bcd94af55034231810dc17eb80d2d80",
            "bf6e4552fc0241dfb68bf5b16a09995c",
            "e6f3665e973e4791bef8c10ba285c8cc",
            "372e4f301eeb4d3883324eaaf5fb3f2b",
            "49c44e34bab841a2ab075f46ffb33052",
            "39b56da982584ec19862071c053d5127",
            "1b267e7a998f4d08bea3d539ec83a3af",
            "7270c15c908b432da3b4791107fbbab0",
            "ea2837821019445891c0b6cf58273c6e",
            "d178e57450234d52bce0695a1837a9bf",
            "b84145cbc1f1451fb7ab6b4366c20d81",
            "05a60bc8e8d54a1f8bd1c06d3ec0b7fc",
            "ca154e195daf467ca259e307982f16cb",
            "fe22868d5653437b894fb755c132bec1",
            "18d70150c4d6462bb28c00ec3ae1b70e",
            "4043dd742e954fba858ba08779d9683f",
            "db95a9508b96482484b1d1281ba0f343",
            "5f223f8d362b407a95afd8c8a71c557b",
            "dcaa09fd849b47b0a9f8803f399f290b",
            "c43302b575ca459a9d96cb03dc0d7eb9",
            "d5821ddb2ead461b8e22be8b53c7c4d4",
            "183466dbfa274961a51800196735c7df",
            "ce592fe22a4a459ebcc298142e7278a6",
            "fa57bfa50f1f4a048d4394bc263ab45e",
            "418086d2b1584038bb22ece05ae3a075"
          ]
        },
        "id": "gAM4IAvnX069",
        "outputId": "38415df0-3343-4c2c-af29-b24194db47dc"
      },
      "source": [
        "ProgressBar(persist=True).attach(trainer, output_transform=lambda x: {\"batch loss\": x})\n",
        "trainer.run(train_loader, max_epochs=1)\n",
        "\n",
        "trainer.run(train_loader, max_epochs=1)\n",
        "\n",
        "trainer.run(train_loader, max_epochs=1)\n",
        "\n",
        "trainer.run(train_loader, max_epochs=1)\n",
        "\n",
        "trainer.run(train_loader, max_epochs=1)\n",
        "\n",
        "# training 5 times"
      ],
      "execution_count": null,
      "outputs": [
        {
          "output_type": "display_data",
          "data": {
            "application/vnd.jupyter.widget-view+json": {
              "model_id": "e47427c9c5a54c158d537738b8b02494",
              "version_minor": 0,
              "version_major": 2
            },
            "text/plain": [
              "[1/469]   0%|           [00:00<?]"
            ]
          },
          "metadata": {}
        },
        {
          "output_type": "stream",
          "text": [
            "Training Results - Epoch 1 Avg accuracy: 97.97666666666667, Avg loss: 0.0657\n",
            "Validation Results - Epoch: 1 Avg accuracy: 98.0, Avg loss: 0.0635\n",
            "Validation Results - Epoch: 1 Avg accuracy: 98.0, Avg loss: 0.0635\n"
          ],
          "name": "stdout"
        },
        {
          "output_type": "display_data",
          "data": {
            "application/vnd.jupyter.widget-view+json": {
              "model_id": "23103b7d22e64529ba534f0aaaf42668",
              "version_minor": 0,
              "version_major": 2
            },
            "text/plain": [
              "[1/469]   0%|           [00:00<?]"
            ]
          },
          "metadata": {}
        },
        {
          "output_type": "stream",
          "text": [
            "Training Results - Epoch 1 Avg accuracy: 98.58, Avg loss: 0.0448\n",
            "Validation Results - Epoch: 1 Avg accuracy: 98.50999999999999, Avg loss: 0.0506\n",
            "Validation Results - Epoch: 1 Avg accuracy: 98.50999999999999, Avg loss: 0.0506\n"
          ],
          "name": "stdout"
        },
        {
          "output_type": "display_data",
          "data": {
            "application/vnd.jupyter.widget-view+json": {
              "model_id": "df93be35bb6947ae984de899545ae5c8",
              "version_minor": 0,
              "version_major": 2
            },
            "text/plain": [
              "[1/469]   0%|           [00:00<?]"
            ]
          },
          "metadata": {}
        },
        {
          "output_type": "stream",
          "text": [
            "Training Results - Epoch 1 Avg accuracy: 99.035, Avg loss: 0.0308\n",
            "Validation Results - Epoch: 1 Avg accuracy: 98.75, Avg loss: 0.0377\n",
            "Validation Results - Epoch: 1 Avg accuracy: 98.75, Avg loss: 0.0377\n"
          ],
          "name": "stdout"
        },
        {
          "output_type": "display_data",
          "data": {
            "application/vnd.jupyter.widget-view+json": {
              "model_id": "372e4f301eeb4d3883324eaaf5fb3f2b",
              "version_minor": 0,
              "version_major": 2
            },
            "text/plain": [
              "[1/469]   0%|           [00:00<?]"
            ]
          },
          "metadata": {}
        },
        {
          "output_type": "stream",
          "text": [
            "Training Results - Epoch 1 Avg accuracy: 98.83999999999999, Avg loss: 0.0339\n",
            "Validation Results - Epoch: 1 Avg accuracy: 98.67, Avg loss: 0.0433\n",
            "Validation Results - Epoch: 1 Avg accuracy: 98.67, Avg loss: 0.0433\n"
          ],
          "name": "stdout"
        },
        {
          "output_type": "display_data",
          "data": {
            "application/vnd.jupyter.widget-view+json": {
              "model_id": "18d70150c4d6462bb28c00ec3ae1b70e",
              "version_minor": 0,
              "version_major": 2
            },
            "text/plain": [
              "[1/469]   0%|           [00:00<?]"
            ]
          },
          "metadata": {}
        },
        {
          "output_type": "stream",
          "text": [
            "Training Results - Epoch 1 Avg accuracy: 99.16166666666668, Avg loss: 0.0268\n",
            "Validation Results - Epoch: 1 Avg accuracy: 98.6, Avg loss: 0.0445\n",
            "Validation Results - Epoch: 1 Avg accuracy: 98.6, Avg loss: 0.0445\n"
          ],
          "name": "stdout"
        },
        {
          "output_type": "execute_result",
          "data": {
            "text/plain": [
              "State:\n",
              "\titeration: 469\n",
              "\tepoch: 1\n",
              "\tepoch_length: 469\n",
              "\tmax_epochs: 1\n",
              "\toutput: 0.016252227127552032\n",
              "\tbatch: <class 'list'>\n",
              "\tmetrics: <class 'dict'>\n",
              "\tdataloader: <class 'torch.utils.data.dataloader.DataLoader'>\n",
              "\tseed: <class 'NoneType'>\n",
              "\ttimes: <class 'dict'>"
            ]
          },
          "metadata": {},
          "execution_count": 173
        },
        {
          "output_type": "display_data",
          "data": {
            "image/png": "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\n",
            "text/plain": [
              "<Figure size 720x720 with 2 Axes>"
            ]
          },
          "metadata": {
            "needs_background": "light"
          }
        },
        {
          "output_type": "display_data",
          "data": {
            "image/png": "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\n",
            "text/plain": [
              "<Figure size 720x720 with 2 Axes>"
            ]
          },
          "metadata": {
            "needs_background": "light"
          }
        },
        {
          "output_type": "display_data",
          "data": {
            "image/png": "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\n",
            "text/plain": [
              "<Figure size 720x720 with 2 Axes>"
            ]
          },
          "metadata": {
            "needs_background": "light"
          }
        },
        {
          "output_type": "display_data",
          "data": {
            "image/png": "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\n",
            "text/plain": [
              "<Figure size 720x720 with 2 Axes>"
            ]
          },
          "metadata": {
            "needs_background": "light"
          }
        },
        {
          "output_type": "display_data",
          "data": {
            "image/png": "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\n",
            "text/plain": [
              "<Figure size 720x720 with 2 Axes>"
            ]
          },
          "metadata": {
            "needs_background": "light"
          }
        }
      ]
    },
    {
      "cell_type": "code",
      "metadata": {
        "id": "hYGD4TckYG9w",
        "colab": {
          "base_uri": "https://localhost:8080/"
        },
        "outputId": "0d64d9af-d7dc-42ae-9e68-f60b48041aed"
      },
      "source": [
        "print(val_loader.dataset)"
      ],
      "execution_count": null,
      "outputs": [
        {
          "output_type": "stream",
          "text": [
            "Dataset MNIST\n",
            "    Number of datapoints: 10000\n",
            "    Root location: ./data\n",
            "    Split: Test\n",
            "    StandardTransform\n",
            "Transform: Compose(\n",
            "               ToTensor()\n",
            "               Normalize(mean=0.5, std=0.5)\n",
            "           )\n"
          ],
          "name": "stdout"
        }
      ]
    },
    {
      "cell_type": "code",
      "metadata": {
        "colab": {
          "base_uri": "https://localhost:8080/",
          "height": 279
        },
        "id": "gPvrlxrPgzZ7",
        "outputId": "44eb37df-1f96-4dba-ac4e-8174b101ba16"
      },
      "source": [
        "# show graph\n",
        "plt.plot(training_history['accuracy'], label='training accuracy')\n",
        "plt.plot(validation_history['accuracy'], label='validataion accuracy')\n",
        "plt.plot(training_history['loss'], label='training loss')\n",
        "plt.plot(validation_history['loss'], label='validataion loss')\n",
        "plt.xlabel('Number of Epochs')\n",
        "plt.ylabel('loss')\n",
        "plt.legend(frameon=False)\n",
        "plt.show()"
      ],
      "execution_count": null,
      "outputs": [
        {
          "output_type": "display_data",
          "data": {
            "image/png": "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\n",
            "text/plain": [
              "<Figure size 432x288 with 1 Axes>"
            ]
          },
          "metadata": {
            "needs_background": "light"
          }
        }
      ]
    },
    {
      "cell_type": "code",
      "metadata": {
        "id": "GKE4GQZUjYxo"
      },
      "source": [
        "import os\n",
        "def fetch_last_chechpoint_model_filename(model_save_path):\n",
        "  ckpt_files=os.listdir(model_save_path)\n",
        "  ckpt_files=[f for f in ckpt_files if '.pt' in f]\n",
        "  ckpt_iter = [\n",
        "               int(x.split('_')[2].split('.')[0])\n",
        "               for x in ckpt_files\n",
        "  ]\n",
        "  last_idx=np.array(ckpt_iter).argmax()\n",
        "\n",
        "  return os.path.join(torch.load(model_save_path, ckpt_files[last_idx]))"
      ],
      "execution_count": null,
      "outputs": []
    },
    {
      "cell_type": "code",
      "metadata": {
        "id": "M-fXRj5Skb4p"
      },
      "source": [
        "model = model.to('cpu')"
      ],
      "execution_count": null,
      "outputs": []
    },
    {
      "cell_type": "code",
      "metadata": {
        "id": "mr0PWnTEkfcX"
      },
      "source": [
        "# MNIST class\n",
        "classes = ['Zero','One','Two','Three','Four','Five','Six','Seven','Eight','Nine']\n",
        "\n",
        "dataiter=iter(val_loader)\n",
        "input_test_images, input_test_labels = dataiter.next()\n",
        "images_arr=[]\n",
        "labels_arr=[]\n",
        "pred_arr=[]\n"
      ],
      "execution_count": null,
      "outputs": []
    },
    {
      "cell_type": "code",
      "metadata": {
        "colab": {
          "base_uri": "https://localhost:8080/",
          "height": 163
        },
        "id": "5Fs3stj1k4R-",
        "outputId": "21c42f23-0d51-4681-feac-2f95f37cf162"
      },
      "source": [
        "for idx in range(0,10):\n",
        "  images_arr.append(input_test_images[idx].unsqueeze(0))\n",
        "  labels_arr.append(input_test_labels[idx].item())\n",
        "\n",
        "  ps=torch.exp(model(images_arr[idx]))\n",
        "  ps=ps.data.numpy().squeeze()\n",
        "  pred_arr.append(np.argmax(ps))\n",
        "\n",
        "fig= plt.figure(figsize=(25,4))\n",
        "\n",
        "for idx in range(10):\n",
        "  ax = fig.add_subplot(2,20/2,idx+1, xticks=[], yticks=[])\n",
        "  ax.imshow(images_arr[idx].resize(1,28,28).numpy().squeeze())\n",
        "  ax.set_title(f\"{classes[pred_arr[idx]]} ({classes[labels_arr[idx]]})\", color=('darkblue' if pred_arr[idx] == labels_arr[idx] else 'deeppink'))\n",
        "  # 정답 파랑 \n",
        "  # 오답 핑크"
      ],
      "execution_count": null,
      "outputs": [
        {
          "output_type": "stream",
          "text": [
            "/usr/local/lib/python3.7/dist-packages/torch/_tensor.py:490: UserWarning: non-inplace resize is deprecated\n",
            "  warnings.warn(\"non-inplace resize is deprecated\")\n"
          ],
          "name": "stderr"
        },
        {
          "output_type": "display_data",
          "data": {
            "image/png": "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\n",
            "text/plain": [
              "<Figure size 1800x288 with 10 Axes>"
            ]
          },
          "metadata": {}
        }
      ]
    },
    {
      "cell_type": "code",
      "metadata": {
        "colab": {
          "base_uri": "https://localhost:8080/"
        },
        "id": "xhOtdjzmqAxa",
        "outputId": "f9ee8c4f-a875-401b-ccd6-9deaa33c29c5"
      },
      "source": [
        "# 특징점이 fashion MNIST 보다 명확해서인지 \n",
        "# 초기 accuracy부터 높게 나오는 것을 확인할 수 있었습니다. \n",
        "# 높은 확률로 학습된 정보로 정답을 잘 찾을 수 있는 것을 확인했습니다.\n",
      ],
      "execution_count": null,
      "outputs": [
        {
          "output_type": "execute_result",
          "data": {
            "text/plain": [
              "torchvision.datasets.mnist.MNIST"
            ]
          },
          "metadata": {},
          "execution_count": 154
        }
      ]
    },
    {
      "cell_type": "code",
      "metadata": {
        "id": "uh_ud_GxqhcV"
      },
      "source": [
        ""
      ],
      "execution_count": null,
      "outputs": []
    }
  ]
}
